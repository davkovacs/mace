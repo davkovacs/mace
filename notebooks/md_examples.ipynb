{
 "cells": [
  {
   "cell_type": "markdown",
   "metadata": {},
   "source": [
    "### The following example show how to run various types of MD simulations using hybrid potentials. \n",
    "The notebook cells can be run directly if you have a GPU attached to your jupyter server.  The Repex jobs will be written to a batch script which can be submitted to a slurm cluster"
   ]
  },
  {
   "cell_type": "code",
   "execution_count": null,
   "metadata": {},
   "outputs": [],
   "source": [
    "# Vanilla MD"
   ]
  },
  {
   "cell_type": "code",
   "execution_count": null,
   "metadata": {},
   "outputs": [],
   "source": [
    "# Non-equilibrium switching"
   ]
  },
  {
   "cell_type": "code",
   "execution_count": null,
   "metadata": {},
   "outputs": [],
   "source": [
    "# equilibrium FEP with replica exchange\n",
    "# Change these options depending on what hardware you're running on\n",
    "n_gpus = 2\n",
    "n_replicas = 8\n"
   ]
  },
  {
   "cell_type": "markdown",
   "metadata": {},
   "source": []
  }
 ],
 "metadata": {
  "kernelspec": {
   "display_name": "Python 3.9.12 ('mlmm')",
   "language": "python",
   "name": "python3"
  },
  "language_info": {
   "name": "python",
   "version": "3.9.12"
  },
  "orig_nbformat": 4,
  "vscode": {
   "interpreter": {
    "hash": "defcdbe4603445933122e93f03aa14d543f0a8f015e45137b009d3fe48ecf9d4"
   }
  }
 },
 "nbformat": 4,
 "nbformat_minor": 2
}
