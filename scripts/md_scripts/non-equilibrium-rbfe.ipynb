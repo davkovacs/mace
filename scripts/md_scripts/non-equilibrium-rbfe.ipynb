{
 "cells": [
  {
   "cell_type": "code",
   "execution_count": 1,
   "metadata": {},
   "outputs": [
    {
     "name": "stderr",
     "output_type": "stream",
     "text": [
      "/home/jhm72/miniconda3/envs/mace_openmm/lib/python3.9/site-packages/tqdm/auto.py:22: TqdmWarning: IProgress not found. Please update jupyter and ipywidgets. See https://ipywidgets.readthedocs.io/en/stable/user_install.html\n",
      "  from .autonotebook import tqdm as notebook_tqdm\n",
      "LICENSE: Could not open license file \"oe_license.txt\" in local directory\n",
      "LICENSE: N.B. OE_LICENSE environment variable is not set\n",
      "LICENSE: N.B. OE_DIR environment variable is not set\n",
      "LICENSE: No product keys!\n",
      "LICENSE: No product keys!\n",
      "LICENSE: No product keys!\n",
      "Warning: Unable to load toolkit 'OpenEye Toolkit'. The Open Force Field Toolkit does not require the OpenEye Toolkits, and can use RDKit/AmberTools instead. However, if you have a valid license for the OpenEye Toolkits, consider installing them for faster performance and additional file format support: https://docs.eyesopen.com/toolkits/python/quickstart-python/linuxosx.html OpenEye offers free Toolkit licenses for academics: https://www.eyesopen.com/academic-licensing\n",
      "LICENSE: No product keys!\n",
      "Warning: importing 'simtk.openmm' is deprecated.  Import 'openmm' instead.\n"
     ]
    }
   ],
   "source": [
    "import sys\n",
    "from ase.io import read\n",
    "import torch\n",
    "import mdtraj as md\n",
    "\n",
    "# from mace.calculators import MACE_openmm2\n",
    "\n",
    "import sys\n",
    "from openmm import Platform\n",
    "from openmmtools.integrators import AlchemicalNonequilibriumLangevinIntegrator\n",
    "from openmm.app import (\n",
    "    Simulation,\n",
    "    StateDataReporter,\n",
    "    ForceField,\n",
    "    PDBReporter,\n",
    "    PDBFile,\n",
    "    HBonds,\n",
    "    Modeller,\n",
    "    PME,\n",
    ")\n",
    "from openmm.unit import nanometer, nanometers, molar\n",
    "from openmm.unit import kelvin, picosecond, femtosecond, kilojoule_per_mole\n",
    "from openff.toolkit.topology import Molecule\n",
    "from openmmforcefields.generators import SMIRNOFFTemplateGenerator\n",
    "from mace.calculators.openmm import MacePotentialImplFactory\n",
    "from openmmml import MLPotential\n",
    "from openmmtools import alchemy\n",
    "\n",
    "from perses.annihilation.relative import HybridTopologyFactory\n",
    "from perses.rjmc.atom_mapping import AtomMapper\n",
    "\n",
    "MLPotential.registerImplFactory(\"mace\", MacePotentialImplFactory())\n",
    "torch.set_default_dtype(torch.float32)"
   ]
  },
  {
   "cell_type": "code",
   "execution_count": 2,
   "metadata": {},
   "outputs": [],
   "source": [
    "LIGAND_1 = \"../../tests/test_openmm/5n.sdf\"\n",
    "LIGAND_2 = \"../../tests/test_openmm/5i.sdf\"\n",
    "COMPLEX = \"../../test/test_openmm/tnks_complex.pdb\""
   ]
  },
  {
   "cell_type": "code",
   "execution_count": 3,
   "metadata": {},
   "outputs": [
    {
     "ename": "ToolkitUnavailableException",
     "evalue": "This function requires the OpenEye Toolkit toolkit",
     "output_type": "error",
     "traceback": [
      "\u001b[0;31m---------------------------------------------------------------------------\u001b[0m",
      "\u001b[0;31mToolkitUnavailableException\u001b[0m               Traceback (most recent call last)",
      "Cell \u001b[0;32mIn [3], line 5\u001b[0m\n\u001b[1;32m      2\u001b[0m molecule2 \u001b[39m=\u001b[39m Molecule\u001b[39m.\u001b[39mfrom_file(LIGAND_2)\n\u001b[1;32m      4\u001b[0m atomMapper \u001b[39m=\u001b[39m AtomMapper()\n\u001b[0;32m----> 5\u001b[0m atomMapper\u001b[39m.\u001b[39;49mget_best_mapping(molecule1, molecule2)\n",
      "File \u001b[0;32m~/miniconda3/envs/mace_openmm/lib/python3.9/site-packages/perses/rjmc/atom_mapping.py:993\u001b[0m, in \u001b[0;36mAtomMapper.get_best_mapping\u001b[0;34m(self, old_mol, new_mol)\u001b[0m\n\u001b[1;32m    990\u001b[0m initial_time \u001b[39m=\u001b[39m time\u001b[39m.\u001b[39mtime()\n\u001b[1;32m    992\u001b[0m \u001b[39mimport\u001b[39;00m \u001b[39mnumpy\u001b[39;00m \u001b[39mas\u001b[39;00m \u001b[39mnp\u001b[39;00m\n\u001b[0;32m--> 993\u001b[0m atom_mappings \u001b[39m=\u001b[39m \u001b[39mself\u001b[39;49m\u001b[39m.\u001b[39;49mget_all_mappings(old_mol, new_mol)\n\u001b[1;32m    994\u001b[0m \u001b[39mif\u001b[39;00m (atom_mappings \u001b[39mis\u001b[39;00m \u001b[39mNone\u001b[39;00m) \u001b[39mor\u001b[39;00m \u001b[39mlen\u001b[39m(atom_mappings)\u001b[39m==\u001b[39m\u001b[39m0\u001b[39m:\n\u001b[1;32m    995\u001b[0m     \u001b[39mreturn\u001b[39;00m \u001b[39mNone\u001b[39;00m\n",
      "File \u001b[0;32m~/miniconda3/envs/mace_openmm/lib/python3.9/site-packages/perses/rjmc/atom_mapping.py:796\u001b[0m, in \u001b[0;36mAtomMapper.get_all_mappings\u001b[0;34m(self, old_mol, new_mol)\u001b[0m\n\u001b[1;32m    792\u001b[0m         \u001b[39mraise\u001b[39;00m \u001b[39mValueError\u001b[39;00m(\u001b[39mf\u001b[39m\u001b[39m'\u001b[39m\u001b[39mNot sure how to copy \u001b[39m\u001b[39m{\u001b[39;00mmol\u001b[39m}\u001b[39;00m\u001b[39m; should be openff.toolkit.topology.Molecule or openeye.oechem.OEMol\u001b[39m\u001b[39m'\u001b[39m)\n\u001b[1;32m    794\u001b[0m     \u001b[39mreturn\u001b[39;00m offmol, oemol\n\u001b[0;32m--> 796\u001b[0m old_offmol, old_oemol \u001b[39m=\u001b[39m copy_molecule(old_mol)\n\u001b[1;32m    797\u001b[0m new_offmol, new_oemol \u001b[39m=\u001b[39m copy_molecule(new_mol)\n\u001b[1;32m    799\u001b[0m \u001b[39mif\u001b[39;00m (old_offmol\u001b[39m.\u001b[39mn_atoms\u001b[39m==\u001b[39m\u001b[39m0\u001b[39m) \u001b[39mor\u001b[39;00m (new_offmol\u001b[39m.\u001b[39mn_atoms\u001b[39m==\u001b[39m\u001b[39m0\u001b[39m):\n",
      "File \u001b[0;32m~/miniconda3/envs/mace_openmm/lib/python3.9/site-packages/perses/rjmc/atom_mapping.py:782\u001b[0m, in \u001b[0;36mAtomMapper.get_all_mappings.<locals>.copy_molecule\u001b[0;34m(mol)\u001b[0m\n\u001b[1;32m    779\u001b[0m \u001b[39mif\u001b[39;00m \u001b[39misinstance\u001b[39m(mol, Molecule):\n\u001b[1;32m    780\u001b[0m     \u001b[39m# OpenFF Molecule\u001b[39;00m\n\u001b[1;32m    781\u001b[0m     offmol \u001b[39m=\u001b[39m Molecule(mol)\n\u001b[0;32m--> 782\u001b[0m     oemol \u001b[39m=\u001b[39m offmol\u001b[39m.\u001b[39;49mto_openeye()\n\u001b[1;32m    783\u001b[0m     \u001b[39m# Fix atom name retrieval from OEMol objects\u001b[39;00m\n\u001b[1;32m    784\u001b[0m     \u001b[39m# TODO: When https://github.com/openforcefield/openff-toolkit/issues/1026 is fixed, remove this\u001b[39;00m\n\u001b[1;32m    785\u001b[0m     \u001b[39mfor\u001b[39;00m atom, oeatom \u001b[39min\u001b[39;00m \u001b[39mzip\u001b[39m(offmol\u001b[39m.\u001b[39matoms, oemol\u001b[39m.\u001b[39mGetAtoms()):\n",
      "File \u001b[0;32m~/miniconda3/envs/mace_openmm/lib/python3.9/site-packages/openff/toolkit/utils/base_wrapper.py:50\u001b[0m, in \u001b[0;36mToolkitWrapper.requires_toolkit.<locals>.decorator.<locals>.wrapped_function\u001b[0;34m(*args, **kwargs)\u001b[0m\n\u001b[1;32m     46\u001b[0m \u001b[39mif\u001b[39;00m \u001b[39mnot\u001b[39;00m \u001b[39mcls\u001b[39m\u001b[39m.\u001b[39mis_available():\n\u001b[1;32m     47\u001b[0m     msg \u001b[39m=\u001b[39m \u001b[39m\"\u001b[39m\u001b[39mThis function requires the \u001b[39m\u001b[39m{}\u001b[39;00m\u001b[39m toolkit\u001b[39m\u001b[39m\"\u001b[39m\u001b[39m.\u001b[39mformat(\n\u001b[1;32m     48\u001b[0m         \u001b[39mcls\u001b[39m\u001b[39m.\u001b[39m_toolkit_name\n\u001b[1;32m     49\u001b[0m     )\n\u001b[0;32m---> 50\u001b[0m     \u001b[39mraise\u001b[39;00m ToolkitUnavailableException(msg)\n\u001b[1;32m     51\u001b[0m value \u001b[39m=\u001b[39m func(\u001b[39m*\u001b[39margs, \u001b[39m*\u001b[39m\u001b[39m*\u001b[39mkwargs)\n\u001b[1;32m     52\u001b[0m \u001b[39mreturn\u001b[39;00m value\n",
      "\u001b[0;31mToolkitUnavailableException\u001b[0m: This function requires the OpenEye Toolkit toolkit"
     ]
    }
   ],
   "source": [
    "molecule1 = Molecule.from_file(LIGAND_1)\n",
    "molecule2 = Molecule.from_file(LIGAND_2)\n",
    "\n",
    "atomMapper = AtomMapper()\n",
    "atomMapper.get_best_mapping(molecule1, molecule2)"
   ]
  },
  {
   "cell_type": "code",
   "execution_count": null,
   "metadata": {},
   "outputs": [],
   "source": []
  }
 ],
 "metadata": {
  "kernelspec": {
   "display_name": "Python 3.9.13 ('mace_openmm')",
   "language": "python",
   "name": "python3"
  },
  "language_info": {
   "codemirror_mode": {
    "name": "ipython",
    "version": 3
   },
   "file_extension": ".py",
   "mimetype": "text/x-python",
   "name": "python",
   "nbconvert_exporter": "python",
   "pygments_lexer": "ipython3",
   "version": "3.9.13"
  },
  "orig_nbformat": 4,
  "vscode": {
   "interpreter": {
    "hash": "24ef6118466150a913108bda26e961316ad6626d6c4c3565940acf7de309264f"
   }
  }
 },
 "nbformat": 4,
 "nbformat_minor": 2
}
